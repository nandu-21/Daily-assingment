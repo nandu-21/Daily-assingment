{
  "nbformat": 4,
  "nbformat_minor": 0,
  "metadata": {
    "colab": {
      "provenance": [],
      "authorship_tag": "ABX9TyOuCg/oygkO5HA646LGzaA9",
      "include_colab_link": true
    },
    "kernelspec": {
      "name": "python3",
      "display_name": "Python 3"
    },
    "language_info": {
      "name": "python"
    }
  },
  "cells": [
    {
      "cell_type": "markdown",
      "metadata": {
        "id": "view-in-github",
        "colab_type": "text"
      },
      "source": [
        "<a href=\"https://colab.research.google.com/github/nandu-21/Daily-assingment/blob/main/day_2assignment.ipynb\" target=\"_parent\"><img src=\"https://colab.research.google.com/assets/colab-badge.svg\" alt=\"Open In Colab\"/></a>"
      ]
    },
    {
      "cell_type": "code",
      "execution_count": null,
      "metadata": {
        "id": "EuQfsEJdtBeE",
        "outputId": "b1579208-4d81-479e-bc2e-5e2bf230d7d5",
        "colab": {
          "base_uri": "https://localhost:8080/"
        }
      },
      "outputs": [
        {
          "output_type": "stream",
          "name": "stdout",
          "text": [
            "Matrix A:\n",
            " [[1 2]\n",
            " [3 3]]\n",
            "Matrix B:\n",
            " [[2 5]\n",
            " [7 5]]\n",
            "Matrix Multiplication Result:\n",
            " [[16 15]\n",
            " [27 30]]\n"
          ]
        }
      ],
      "source": [
        "import numpy as np\n",
        "\n",
        "# Function to perform matrix multiplication\n",
        "def matrix_multiply(A, B):\n",
        "    return np.dot(A, B)\n",
        "\n",
        "# Example matrices\n",
        "A = np.array([[1, 2],\n",
        "              [3, 3]])\n",
        "B = np.array([[2, 5],\n",
        "              [7, 5]])\n",
        "\n",
        "# Perform multiplication\n",
        "result = matrix_multiply(A, B)\n",
        "print(\"Matrix A:\\n\", A)\n",
        "print(\"Matrix B:\\n\", B)\n",
        "print(\"Matrix Multiplication Result:\\n\", result)"
      ]
    },
    {
      "cell_type": "code",
      "source": [
        "data = [5, 10, 15, 20, 25]\n"
      ],
      "metadata": {
        "id": "DksJ-Oi1teA8"
      },
      "execution_count": 3,
      "outputs": []
    }
  ]
}