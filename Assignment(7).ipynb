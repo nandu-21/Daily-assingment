{
  "nbformat": 4,
  "nbformat_minor": 0,
  "metadata": {
    "colab": {
      "provenance": [],
      "authorship_tag": "ABX9TyM+rjC2Gmx2bGCSjlr0wh2C",
      "include_colab_link": true
    },
    "kernelspec": {
      "name": "python3",
      "display_name": "Python 3"
    },
    "language_info": {
      "name": "python"
    }
  },
  "cells": [
    {
      "cell_type": "markdown",
      "metadata": {
        "id": "view-in-github",
        "colab_type": "text"
      },
      "source": [
        "<a href=\"https://colab.research.google.com/github/nandu-21/Daily-assingment/blob/main/Assignment(7).ipynb\" target=\"_parent\"><img src=\"https://colab.research.google.com/assets/colab-badge.svg\" alt=\"Open In Colab\"/></a>"
      ]
    },
    {
      "cell_type": "code",
      "source": [
        "import pandas as pd\n",
        "import numpy as np\n",
        "from sklearn.model_selection import train_test_split, GridSearchCV\n",
        "from sklearn.ensemble import RandomForestRegressor\n",
        "from sklearn.linear_model import LinearRegression, Ridge, Lasso\n",
        "from sklearn.metrics import mean_squared_error, mean_absolute_error, r2_score\n",
        ""
      ],
      "metadata": {
        "id": "fgWx4a_PRqys"
      },
      "execution_count": 2,
      "outputs": []
    },
    {
      "cell_type": "code",
      "source": [
        "# Load CSV from GitHub\n",
        "url = \"https://raw.githubusercontent.com/VijayDwivedi-ml/Machine-Learning-in-10-Days-with-projects/main/Day_4_Supervised_Learning_Regression/lab/USA_Housing_toy.csv\"\n",
        "\n",
        "df = pd.read_csv(url)\n",
        "\n",
        "# Drop 'Address' (not useful for regression)\n",
        "df.drop('Address', axis=1, inplace=True)\n",
        "\n",
        "# Features & target\n",
        "X = df.drop('Price', axis=1)\n",
        "y = df['Price']\n",
        ""
      ],
      "metadata": {
        "id": "CvK9Qe6dRr-l"
      },
      "execution_count": 3,
      "outputs": []
    },
    {
      "cell_type": "code",
      "source": [
        "X_train, X_test, y_train, y_test = train_test_split(X, y, test_size=0.2, random_state=42)"
      ],
      "metadata": {
        "id": "8I_hKFpARxPW"
      },
      "execution_count": 4,
      "outputs": []
    },
    {
      "cell_type": "code",
      "source": [
        "\n",
        "rf = RandomForestRegressor(random_state=42)\n",
        "\n",
        "param_grid = {\n",
        "    'n_estimators': [50, 100],\n",
        "    'max_depth': [None, 10, 20],\n",
        "    'min_samples_split': [2, 5]\n",
        "}\n",
        "\n",
        "grid = GridSearchCV(rf, param_grid, cv=5, scoring='neg_mean_squared_error', n_jobs=-1)\n",
        "grid.fit(X_train, y_train)\n",
        "\n",
        "best_rf = grid.best_estimator_"
      ],
      "metadata": {
        "id": "qHJR3ot4R1jn"
      },
      "execution_count": 5,
      "outputs": []
    },
    {
      "cell_type": "code",
      "source": [
        "y_pred_rf = best_rf.predict(X_test)\n",
        "\n",
        "print(\"Random Forest Regressor:\")\n",
        "print(\"MSE:\", mean_squared_error(y_test, y_pred_rf))\n",
        "print(\"MAE:\", mean_absolute_error(y_test, y_pred_rf))\n",
        "print(\"R2 Score:\", r2_score(y_test, y_pred_rf))\n",
        ""
      ],
      "metadata": {
        "colab": {
          "base_uri": "https://localhost:8080/"
        },
        "id": "Z2dUdIG_SB56",
        "outputId": "e9a7c7c0-635c-4e21-ac0f-19a5efb34bec"
      },
      "execution_count": 6,
      "outputs": [
        {
          "output_type": "stream",
          "name": "stdout",
          "text": [
            "Random Forest Regressor:\n",
            "MSE: 19492188916.588154\n",
            "MAE: 110978.32924839124\n",
            "R2 Score: 0.8309064606046426\n"
          ]
        }
      ]
    },
    {
      "cell_type": "code",
      "source": [
        "# Linear\n",
        "lr = LinearRegression()\n",
        "lr.fit(X_train, y_train)\n",
        "y_pred_lr = lr.predict(X_test)\n",
        "\n",
        "# Ridge\n",
        "ridge = Ridge(alpha=1.0)\n",
        "ridge.fit(X_train, y_train)\n",
        "y_pred_ridge = ridge.predict(X_test)\n",
        "\n",
        "# Lasso\n",
        "lasso = Lasso(alpha=1.0)\n",
        "lasso.fit(X_train, y_train)\n",
        "y_pred_lasso = lasso.predict(X_test)\n",
        "\n"
      ],
      "metadata": {
        "id": "fQe_K_R_SGvE"
      },
      "execution_count": 7,
      "outputs": []
    },
    {
      "cell_type": "code",
      "source": [
        "def print_metrics(name, y_true, y_pred):\n",
        "    print(f\"{name}:\\nMSE: {mean_squared_error(y_true, y_pred):.2f}, MAE: {mean_absolute_error(y_true, y_pred):.2f}, R2: {r2_score(y_true, y_pred):.4f}\\n\")\n",
        "\n",
        "print_metrics(\"Linear Regression\", y_test, y_pred_lr)\n",
        "print_metrics(\"Ridge Regression\", y_test, y_pred_ridge)\n",
        "print_metrics(\"Lasso Regression\", y_test, y_pred_lasso)\n",
        "print_metrics(\"Random Forest\", y_test, y_pred_rf)"
      ],
      "metadata": {
        "colab": {
          "base_uri": "https://localhost:8080/"
        },
        "id": "i2odY58wSL36",
        "outputId": "702f79e5-d0fa-4241-d5d6-63ea5ed3bc60"
      },
      "execution_count": 8,
      "outputs": [
        {
          "output_type": "stream",
          "name": "stdout",
          "text": [
            "Linear Regression:\n",
            "MSE: 14519364497.01, MAE: 97559.46, R2: 0.8740\n",
            "\n",
            "Ridge Regression:\n",
            "MSE: 14519480916.13, MAE: 97562.33, R2: 0.8740\n",
            "\n",
            "Lasso Regression:\n",
            "MSE: 14519362768.63, MAE: 97559.50, R2: 0.8740\n",
            "\n",
            "Random Forest:\n",
            "MSE: 19492188916.59, MAE: 110978.33, R2: 0.8309\n",
            "\n"
          ]
        }
      ]
    },
    {
      "cell_type": "code",
      "source": [
        "\n",
        "import matplotlib.pyplot as plt\n",
        "\n",
        "importances = pd.Series(best_rf.feature_importances_, index=X.columns)\n",
        "importances.sort_values().plot(kind='barh', title=\"Feature Importances\")\n",
        "plt.show()\n",
        ""
      ],
      "metadata": {
        "colab": {
          "base_uri": "https://localhost:8080/",
          "height": 452
        },
        "id": "dH9s33i4SPzA",
        "outputId": "8dcdd99d-4c5b-4ab2-97e3-d21279944b43"
      },
      "execution_count": 9,
      "outputs": [
        {
          "output_type": "display_data",
          "data": {
            "text/plain": [
              "<Figure size 640x480 with 1 Axes>"
            ],
            "image/png": "[encoded data removed]"
          },
          "metadata": {}
        }
      ]
    }
  ]
}